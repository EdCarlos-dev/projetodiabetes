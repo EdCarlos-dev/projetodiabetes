{
  "cells": [
    {
      "cell_type": "markdown",
      "id": "e63b3907",
      "metadata": {
        "id": "e63b3907"
      },
      "source": [
        "# Analise exploratória\n",
        "\n",
        "Usando dataset obtido em: https://www.kaggle.com/datasets/prasertk/netflix-daily-top-10-in-us"
      ]
    },
    {
      "cell_type": "code",
      "execution_count": null,
      "id": "7cf27dab",
      "metadata": {
        "id": "7cf27dab"
      },
      "outputs": [],
      "source": [
        "import pandas as pd\n",
        "import datetime as dt\n",
        "# pesquisar bibliotecas"
      ]
    },
    {
      "cell_type": "code",
      "execution_count": null,
      "id": "60870bcb",
      "metadata": {
        "id": "60870bcb"
      },
      "outputs": [],
      "source": [
        "base = pd.read_csv('netflix/netflix daily top 10.csv')"
      ]
    },
    {
      "cell_type": "markdown",
      "id": "0170202b",
      "metadata": {
        "id": "0170202b"
      },
      "source": [
        "## visualizar a base"
      ]
    },
    {
      "cell_type": "code",
      "execution_count": null,
      "id": "a0ae9612",
      "metadata": {
        "id": "a0ae9612",
        "outputId": "6ff9d892-f905-4df0-b495-9b1251f1305b"
      },
      "outputs": [
        {
          "data": {
            "text/html": [
              "<div>\n",
              "<style scoped>\n",
              "    .dataframe tbody tr th:only-of-type {\n",
              "        vertical-align: middle;\n",
              "    }\n",
              "\n",
              "    .dataframe tbody tr th {\n",
              "        vertical-align: top;\n",
              "    }\n",
              "\n",
              "    .dataframe thead th {\n",
              "        text-align: right;\n",
              "    }\n",
              "</style>\n",
              "<table border=\"1\" class=\"dataframe\">\n",
              "  <thead>\n",
              "    <tr style=\"text-align: right;\">\n",
              "      <th></th>\n",
              "      <th>As of</th>\n",
              "      <th>Rank</th>\n",
              "      <th>Year to Date Rank</th>\n",
              "      <th>Last Week Rank</th>\n",
              "      <th>Title</th>\n",
              "      <th>Type</th>\n",
              "      <th>Netflix Exclusive</th>\n",
              "      <th>Netflix Release Date</th>\n",
              "      <th>Days In Top 10</th>\n",
              "      <th>Viewership Score</th>\n",
              "    </tr>\n",
              "  </thead>\n",
              "  <tbody>\n",
              "    <tr>\n",
              "      <th>0</th>\n",
              "      <td>2020-04-01</td>\n",
              "      <td>1</td>\n",
              "      <td>1</td>\n",
              "      <td>1</td>\n",
              "      <td>Tiger King: Murder, Mayhem …</td>\n",
              "      <td>TV Show</td>\n",
              "      <td>Yes</td>\n",
              "      <td>Mar 20, 2020</td>\n",
              "      <td>9</td>\n",
              "      <td>90</td>\n",
              "    </tr>\n",
              "    <tr>\n",
              "      <th>1</th>\n",
              "      <td>2020-04-01</td>\n",
              "      <td>2</td>\n",
              "      <td>2</td>\n",
              "      <td>-</td>\n",
              "      <td>Ozark</td>\n",
              "      <td>TV Show</td>\n",
              "      <td>Yes</td>\n",
              "      <td>Jul 21, 2017</td>\n",
              "      <td>5</td>\n",
              "      <td>45</td>\n",
              "    </tr>\n",
              "    <tr>\n",
              "      <th>2</th>\n",
              "      <td>2020-04-01</td>\n",
              "      <td>3</td>\n",
              "      <td>3</td>\n",
              "      <td>2</td>\n",
              "      <td>All American</td>\n",
              "      <td>TV Show</td>\n",
              "      <td>NaN</td>\n",
              "      <td>Mar 28, 2019</td>\n",
              "      <td>9</td>\n",
              "      <td>76</td>\n",
              "    </tr>\n",
              "    <tr>\n",
              "      <th>3</th>\n",
              "      <td>2020-04-01</td>\n",
              "      <td>4</td>\n",
              "      <td>4</td>\n",
              "      <td>-</td>\n",
              "      <td>Blood Father</td>\n",
              "      <td>Movie</td>\n",
              "      <td>NaN</td>\n",
              "      <td>Mar 26, 2020</td>\n",
              "      <td>5</td>\n",
              "      <td>30</td>\n",
              "    </tr>\n",
              "    <tr>\n",
              "      <th>4</th>\n",
              "      <td>2020-04-01</td>\n",
              "      <td>5</td>\n",
              "      <td>5</td>\n",
              "      <td>4</td>\n",
              "      <td>The Platform</td>\n",
              "      <td>Movie</td>\n",
              "      <td>Yes</td>\n",
              "      <td>Mar 20, 2020</td>\n",
              "      <td>9</td>\n",
              "      <td>55</td>\n",
              "    </tr>\n",
              "  </tbody>\n",
              "</table>\n",
              "</div>"
            ],
            "text/plain": [
              "        As of  Rank Year to Date Rank Last Week Rank  \\\n",
              "0  2020-04-01     1                 1              1   \n",
              "1  2020-04-01     2                 2              -   \n",
              "2  2020-04-01     3                 3              2   \n",
              "3  2020-04-01     4                 4              -   \n",
              "4  2020-04-01     5                 5              4   \n",
              "\n",
              "                          Title     Type Netflix Exclusive  \\\n",
              "0  Tiger King: Murder, Mayhem …  TV Show               Yes   \n",
              "1                         Ozark  TV Show               Yes   \n",
              "2                  All American  TV Show               NaN   \n",
              "3                  Blood Father    Movie               NaN   \n",
              "4                  The Platform    Movie               Yes   \n",
              "\n",
              "  Netflix Release Date  Days In Top 10  Viewership Score  \n",
              "0         Mar 20, 2020               9                90  \n",
              "1         Jul 21, 2017               5                45  \n",
              "2         Mar 28, 2019               9                76  \n",
              "3         Mar 26, 2020               5                30  \n",
              "4         Mar 20, 2020               9                55  "
            ]
          },
          "execution_count": 3,
          "metadata": {},
          "output_type": "execute_result"
        }
      ],
      "source": [
        "base.head()"
      ]
    },
    {
      "cell_type": "code",
      "execution_count": null,
      "id": "e4610a2c",
      "metadata": {
        "id": "e4610a2c",
        "outputId": "0ba3aec5-157e-449b-9c24-1973810c1dbf",
        "scrolled": true
      },
      "outputs": [
        {
          "data": {
            "text/html": [
              "<div>\n",
              "<style scoped>\n",
              "    .dataframe tbody tr th:only-of-type {\n",
              "        vertical-align: middle;\n",
              "    }\n",
              "\n",
              "    .dataframe tbody tr th {\n",
              "        vertical-align: top;\n",
              "    }\n",
              "\n",
              "    .dataframe thead th {\n",
              "        text-align: right;\n",
              "    }\n",
              "</style>\n",
              "<table border=\"1\" class=\"dataframe\">\n",
              "  <thead>\n",
              "    <tr style=\"text-align: right;\">\n",
              "      <th></th>\n",
              "      <th>As of</th>\n",
              "      <th>Rank</th>\n",
              "      <th>Year to Date Rank</th>\n",
              "      <th>Last Week Rank</th>\n",
              "      <th>Title</th>\n",
              "      <th>Type</th>\n",
              "      <th>Netflix Exclusive</th>\n",
              "      <th>Netflix Release Date</th>\n",
              "      <th>Days In Top 10</th>\n",
              "      <th>Viewership Score</th>\n",
              "    </tr>\n",
              "  </thead>\n",
              "  <tbody>\n",
              "    <tr>\n",
              "      <th>7095</th>\n",
              "      <td>2022-03-11</td>\n",
              "      <td>6</td>\n",
              "      <td>5</td>\n",
              "      <td>1</td>\n",
              "      <td>Worst Roommate Ever</td>\n",
              "      <td>TV Show</td>\n",
              "      <td>Yes</td>\n",
              "      <td>Mar 1, 2022</td>\n",
              "      <td>10</td>\n",
              "      <td>81</td>\n",
              "    </tr>\n",
              "    <tr>\n",
              "      <th>7096</th>\n",
              "      <td>2022-03-11</td>\n",
              "      <td>7</td>\n",
              "      <td>7</td>\n",
              "      <td>2</td>\n",
              "      <td>Vikings: Valhalla</td>\n",
              "      <td>TV Show</td>\n",
              "      <td>Yes</td>\n",
              "      <td>Feb 25, 2022</td>\n",
              "      <td>14</td>\n",
              "      <td>100</td>\n",
              "    </tr>\n",
              "    <tr>\n",
              "      <th>7097</th>\n",
              "      <td>2022-03-11</td>\n",
              "      <td>8</td>\n",
              "      <td>8</td>\n",
              "      <td>-</td>\n",
              "      <td>Shooter</td>\n",
              "      <td>Movie</td>\n",
              "      <td>NaN</td>\n",
              "      <td>Aug 1, 2014</td>\n",
              "      <td>3</td>\n",
              "      <td>7</td>\n",
              "    </tr>\n",
              "    <tr>\n",
              "      <th>7098</th>\n",
              "      <td>2022-03-11</td>\n",
              "      <td>9</td>\n",
              "      <td>9</td>\n",
              "      <td>7</td>\n",
              "      <td>Shrek 2</td>\n",
              "      <td>Movie</td>\n",
              "      <td>NaN</td>\n",
              "      <td>Mar 1, 2022</td>\n",
              "      <td>10</td>\n",
              "      <td>33</td>\n",
              "    </tr>\n",
              "    <tr>\n",
              "      <th>7099</th>\n",
              "      <td>2022-03-11</td>\n",
              "      <td>10</td>\n",
              "      <td>10</td>\n",
              "      <td>-</td>\n",
              "      <td>Shrek</td>\n",
              "      <td>Movie</td>\n",
              "      <td>NaN</td>\n",
              "      <td>May 1, 2018</td>\n",
              "      <td>7</td>\n",
              "      <td>12</td>\n",
              "    </tr>\n",
              "  </tbody>\n",
              "</table>\n",
              "</div>"
            ],
            "text/plain": [
              "           As of  Rank Year to Date Rank Last Week Rank                Title  \\\n",
              "7095  2022-03-11     6                 5              1  Worst Roommate Ever   \n",
              "7096  2022-03-11     7                 7              2    Vikings: Valhalla   \n",
              "7097  2022-03-11     8                 8              -              Shooter   \n",
              "7098  2022-03-11     9                 9              7              Shrek 2   \n",
              "7099  2022-03-11    10                10              -                Shrek   \n",
              "\n",
              "         Type Netflix Exclusive Netflix Release Date  Days In Top 10  \\\n",
              "7095  TV Show               Yes          Mar 1, 2022              10   \n",
              "7096  TV Show               Yes         Feb 25, 2022              14   \n",
              "7097    Movie               NaN          Aug 1, 2014               3   \n",
              "7098    Movie               NaN          Mar 1, 2022              10   \n",
              "7099    Movie               NaN          May 1, 2018               7   \n",
              "\n",
              "      Viewership Score  \n",
              "7095                81  \n",
              "7096               100  \n",
              "7097                 7  \n",
              "7098                33  \n",
              "7099                12  "
            ]
          },
          "execution_count": 4,
          "metadata": {},
          "output_type": "execute_result"
        }
      ],
      "source": [
        "base.tail()"
      ]
    },
    {
      "cell_type": "markdown",
      "id": "85a181fd",
      "metadata": {
        "id": "85a181fd"
      },
      "source": [
        "## Dimensões da base"
      ]
    },
    {
      "cell_type": "code",
      "execution_count": null,
      "id": "29303004",
      "metadata": {
        "id": "29303004",
        "outputId": "4794454d-2136-4d66-bb55-5c5e1237ee58",
        "scrolled": false
      },
      "outputs": [
        {
          "data": {
            "text/plain": [
              "(7100, 10)"
            ]
          },
          "execution_count": 5,
          "metadata": {},
          "output_type": "execute_result"
        }
      ],
      "source": [
        "base.shape"
      ]
    },
    {
      "cell_type": "code",
      "execution_count": null,
      "id": "c4e15da5",
      "metadata": {
        "id": "c4e15da5",
        "outputId": "9b521e12-6eeb-49eb-a32c-596fd6c1d005",
        "scrolled": true
      },
      "outputs": [
        {
          "data": {
            "text/html": [
              "<div>\n",
              "<style scoped>\n",
              "    .dataframe tbody tr th:only-of-type {\n",
              "        vertical-align: middle;\n",
              "    }\n",
              "\n",
              "    .dataframe tbody tr th {\n",
              "        vertical-align: top;\n",
              "    }\n",
              "\n",
              "    .dataframe thead th {\n",
              "        text-align: right;\n",
              "    }\n",
              "</style>\n",
              "<table border=\"1\" class=\"dataframe\">\n",
              "  <thead>\n",
              "    <tr style=\"text-align: right;\">\n",
              "      <th></th>\n",
              "      <th>As of</th>\n",
              "      <th>Rank</th>\n",
              "      <th>Year to Date Rank</th>\n",
              "      <th>Last Week Rank</th>\n",
              "      <th>Title</th>\n",
              "      <th>Type</th>\n",
              "      <th>Netflix Exclusive</th>\n",
              "      <th>Netflix Release Date</th>\n",
              "      <th>Days In Top 10</th>\n",
              "      <th>Viewership Score</th>\n",
              "    </tr>\n",
              "  </thead>\n",
              "  <tbody>\n",
              "    <tr>\n",
              "      <th>0</th>\n",
              "      <td>2020-04-01</td>\n",
              "      <td>1</td>\n",
              "      <td>1</td>\n",
              "      <td>1</td>\n",
              "      <td>Tiger King: Murder, Mayhem …</td>\n",
              "      <td>TV Show</td>\n",
              "      <td>Yes</td>\n",
              "      <td>Mar 20, 2020</td>\n",
              "      <td>9</td>\n",
              "      <td>90</td>\n",
              "    </tr>\n",
              "    <tr>\n",
              "      <th>1</th>\n",
              "      <td>2020-04-01</td>\n",
              "      <td>2</td>\n",
              "      <td>2</td>\n",
              "      <td>-</td>\n",
              "      <td>Ozark</td>\n",
              "      <td>TV Show</td>\n",
              "      <td>Yes</td>\n",
              "      <td>Jul 21, 2017</td>\n",
              "      <td>5</td>\n",
              "      <td>45</td>\n",
              "    </tr>\n",
              "    <tr>\n",
              "      <th>2</th>\n",
              "      <td>2020-04-01</td>\n",
              "      <td>3</td>\n",
              "      <td>3</td>\n",
              "      <td>2</td>\n",
              "      <td>All American</td>\n",
              "      <td>TV Show</td>\n",
              "      <td>NaN</td>\n",
              "      <td>Mar 28, 2019</td>\n",
              "      <td>9</td>\n",
              "      <td>76</td>\n",
              "    </tr>\n",
              "    <tr>\n",
              "      <th>3</th>\n",
              "      <td>2020-04-01</td>\n",
              "      <td>4</td>\n",
              "      <td>4</td>\n",
              "      <td>-</td>\n",
              "      <td>Blood Father</td>\n",
              "      <td>Movie</td>\n",
              "      <td>NaN</td>\n",
              "      <td>Mar 26, 2020</td>\n",
              "      <td>5</td>\n",
              "      <td>30</td>\n",
              "    </tr>\n",
              "    <tr>\n",
              "      <th>4</th>\n",
              "      <td>2020-04-01</td>\n",
              "      <td>5</td>\n",
              "      <td>5</td>\n",
              "      <td>4</td>\n",
              "      <td>The Platform</td>\n",
              "      <td>Movie</td>\n",
              "      <td>Yes</td>\n",
              "      <td>Mar 20, 2020</td>\n",
              "      <td>9</td>\n",
              "      <td>55</td>\n",
              "    </tr>\n",
              "    <tr>\n",
              "      <th>...</th>\n",
              "      <td>...</td>\n",
              "      <td>...</td>\n",
              "      <td>...</td>\n",
              "      <td>...</td>\n",
              "      <td>...</td>\n",
              "      <td>...</td>\n",
              "      <td>...</td>\n",
              "      <td>...</td>\n",
              "      <td>...</td>\n",
              "      <td>...</td>\n",
              "    </tr>\n",
              "    <tr>\n",
              "      <th>7095</th>\n",
              "      <td>2022-03-11</td>\n",
              "      <td>6</td>\n",
              "      <td>5</td>\n",
              "      <td>1</td>\n",
              "      <td>Worst Roommate Ever</td>\n",
              "      <td>TV Show</td>\n",
              "      <td>Yes</td>\n",
              "      <td>Mar 1, 2022</td>\n",
              "      <td>10</td>\n",
              "      <td>81</td>\n",
              "    </tr>\n",
              "    <tr>\n",
              "      <th>7096</th>\n",
              "      <td>2022-03-11</td>\n",
              "      <td>7</td>\n",
              "      <td>7</td>\n",
              "      <td>2</td>\n",
              "      <td>Vikings: Valhalla</td>\n",
              "      <td>TV Show</td>\n",
              "      <td>Yes</td>\n",
              "      <td>Feb 25, 2022</td>\n",
              "      <td>14</td>\n",
              "      <td>100</td>\n",
              "    </tr>\n",
              "    <tr>\n",
              "      <th>7097</th>\n",
              "      <td>2022-03-11</td>\n",
              "      <td>8</td>\n",
              "      <td>8</td>\n",
              "      <td>-</td>\n",
              "      <td>Shooter</td>\n",
              "      <td>Movie</td>\n",
              "      <td>NaN</td>\n",
              "      <td>Aug 1, 2014</td>\n",
              "      <td>3</td>\n",
              "      <td>7</td>\n",
              "    </tr>\n",
              "    <tr>\n",
              "      <th>7098</th>\n",
              "      <td>2022-03-11</td>\n",
              "      <td>9</td>\n",
              "      <td>9</td>\n",
              "      <td>7</td>\n",
              "      <td>Shrek 2</td>\n",
              "      <td>Movie</td>\n",
              "      <td>NaN</td>\n",
              "      <td>Mar 1, 2022</td>\n",
              "      <td>10</td>\n",
              "      <td>33</td>\n",
              "    </tr>\n",
              "    <tr>\n",
              "      <th>7099</th>\n",
              "      <td>2022-03-11</td>\n",
              "      <td>10</td>\n",
              "      <td>10</td>\n",
              "      <td>-</td>\n",
              "      <td>Shrek</td>\n",
              "      <td>Movie</td>\n",
              "      <td>NaN</td>\n",
              "      <td>May 1, 2018</td>\n",
              "      <td>7</td>\n",
              "      <td>12</td>\n",
              "    </tr>\n",
              "  </tbody>\n",
              "</table>\n",
              "<p>7100 rows × 10 columns</p>\n",
              "</div>"
            ],
            "text/plain": [
              "           As of  Rank Year to Date Rank Last Week Rank  \\\n",
              "0     2020-04-01     1                 1              1   \n",
              "1     2020-04-01     2                 2              -   \n",
              "2     2020-04-01     3                 3              2   \n",
              "3     2020-04-01     4                 4              -   \n",
              "4     2020-04-01     5                 5              4   \n",
              "...          ...   ...               ...            ...   \n",
              "7095  2022-03-11     6                 5              1   \n",
              "7096  2022-03-11     7                 7              2   \n",
              "7097  2022-03-11     8                 8              -   \n",
              "7098  2022-03-11     9                 9              7   \n",
              "7099  2022-03-11    10                10              -   \n",
              "\n",
              "                             Title     Type Netflix Exclusive  \\\n",
              "0     Tiger King: Murder, Mayhem …  TV Show               Yes   \n",
              "1                            Ozark  TV Show               Yes   \n",
              "2                     All American  TV Show               NaN   \n",
              "3                     Blood Father    Movie               NaN   \n",
              "4                     The Platform    Movie               Yes   \n",
              "...                            ...      ...               ...   \n",
              "7095           Worst Roommate Ever  TV Show               Yes   \n",
              "7096             Vikings: Valhalla  TV Show               Yes   \n",
              "7097                       Shooter    Movie               NaN   \n",
              "7098                       Shrek 2    Movie               NaN   \n",
              "7099                         Shrek    Movie               NaN   \n",
              "\n",
              "     Netflix Release Date  Days In Top 10  Viewership Score  \n",
              "0            Mar 20, 2020               9                90  \n",
              "1            Jul 21, 2017               5                45  \n",
              "2            Mar 28, 2019               9                76  \n",
              "3            Mar 26, 2020               5                30  \n",
              "4            Mar 20, 2020               9                55  \n",
              "...                   ...             ...               ...  \n",
              "7095          Mar 1, 2022              10                81  \n",
              "7096         Feb 25, 2022              14               100  \n",
              "7097          Aug 1, 2014               3                 7  \n",
              "7098          Mar 1, 2022              10                33  \n",
              "7099          May 1, 2018               7                12  \n",
              "\n",
              "[7100 rows x 10 columns]"
            ]
          },
          "metadata": {},
          "output_type": "display_data"
        }
      ],
      "source": [
        "display(base)"
      ]
    },
    {
      "cell_type": "code",
      "execution_count": null,
      "id": "49648e45",
      "metadata": {
        "id": "49648e45",
        "outputId": "0fc4a284-6f05-4c5b-b0aa-bd37d225be20"
      },
      "outputs": [
        {
          "name": "stdout",
          "output_type": "stream",
          "text": [
            "<class 'pandas.core.frame.DataFrame'>\n",
            "RangeIndex: 7100 entries, 0 to 7099\n",
            "Data columns (total 10 columns):\n",
            " #   Column                Non-Null Count  Dtype \n",
            "---  ------                --------------  ----- \n",
            " 0   As of                 7100 non-null   object\n",
            " 1   Rank                  7100 non-null   int64 \n",
            " 2   Year to Date Rank     7100 non-null   object\n",
            " 3   Last Week Rank        7100 non-null   object\n",
            " 4   Title                 7100 non-null   object\n",
            " 5   Type                  7100 non-null   object\n",
            " 6   Netflix Exclusive     4599 non-null   object\n",
            " 7   Netflix Release Date  7100 non-null   object\n",
            " 8   Days In Top 10        7100 non-null   int64 \n",
            " 9   Viewership Score      7100 non-null   int64 \n",
            "dtypes: int64(3), object(7)\n",
            "memory usage: 554.8+ KB\n"
          ]
        }
      ],
      "source": [
        "base.info()"
      ]
    },
    {
      "cell_type": "markdown",
      "id": "525cd0b4",
      "metadata": {
        "id": "525cd0b4"
      },
      "source": [
        "## convertendo str para datetime"
      ]
    },
    {
      "cell_type": "code",
      "execution_count": null,
      "id": "1f4f6c83",
      "metadata": {
        "id": "1f4f6c83",
        "outputId": "d23d4002-4468-4cf6-a154-773870eb0ec8",
        "scrolled": false
      },
      "outputs": [
        {
          "data": {
            "text/plain": [
              "str"
            ]
          },
          "execution_count": 13,
          "metadata": {},
          "output_type": "execute_result"
        }
      ],
      "source": [
        "type(base['As of'][0])"
      ]
    },
    {
      "cell_type": "code",
      "execution_count": null,
      "id": "6e74fc9a",
      "metadata": {
        "id": "6e74fc9a"
      },
      "outputs": [],
      "source": [
        "base['As of'] = pd.to_datetime(base['As of'])\n",
        "base['Netflix Release Date'] = pd.to_datetime(base['Netflix Release Date'])"
      ]
    },
    {
      "cell_type": "code",
      "execution_count": null,
      "id": "ee268eb7",
      "metadata": {
        "id": "ee268eb7",
        "outputId": "45da45b4-2319-45b9-d61c-b124f9e80e6a"
      },
      "outputs": [
        {
          "data": {
            "text/plain": [
              "0      2020-04-01\n",
              "1      2020-04-01\n",
              "2      2020-04-01\n",
              "3      2020-04-01\n",
              "4      2020-04-01\n",
              "          ...    \n",
              "7095   2022-03-11\n",
              "7096   2022-03-11\n",
              "7097   2022-03-11\n",
              "7098   2022-03-11\n",
              "7099   2022-03-11\n",
              "Name: As of, Length: 7100, dtype: datetime64[ns]"
            ]
          },
          "execution_count": 24,
          "metadata": {},
          "output_type": "execute_result"
        }
      ],
      "source": [
        "base['As of']"
      ]
    },
    {
      "cell_type": "code",
      "execution_count": null,
      "id": "14a3f2fc",
      "metadata": {
        "id": "14a3f2fc",
        "outputId": "64769f8a-aa89-4ebf-ddfd-3e4bb61ae13a"
      },
      "outputs": [
        {
          "data": {
            "text/plain": [
              "0      2020-03-20\n",
              "1      2017-07-21\n",
              "2      2019-03-28\n",
              "3      2020-03-26\n",
              "4      2020-03-20\n",
              "          ...    \n",
              "7095   2022-03-01\n",
              "7096   2022-02-25\n",
              "7097   2014-08-01\n",
              "7098   2022-03-01\n",
              "7099   2018-05-01\n",
              "Name: Netflix Release Date, Length: 7100, dtype: datetime64[ns]"
            ]
          },
          "execution_count": 23,
          "metadata": {},
          "output_type": "execute_result"
        }
      ],
      "source": [
        "base['Netflix Release Date']"
      ]
    },
    {
      "cell_type": "markdown",
      "id": "d0b0819b",
      "metadata": {
        "id": "d0b0819b"
      },
      "source": [
        "## Descobrindo periodo de análise"
      ]
    },
    {
      "cell_type": "code",
      "execution_count": null,
      "id": "00412545",
      "metadata": {
        "id": "00412545",
        "outputId": "8209f6e2-25fe-442e-bcc2-7cd1d81bd914"
      },
      "outputs": [
        {
          "data": {
            "text/plain": [
              "datetime.date(2020, 4, 1)"
            ]
          },
          "execution_count": 27,
          "metadata": {},
          "output_type": "execute_result"
        }
      ],
      "source": [
        "inicio = base['As of'].dt.date.min()\n",
        "inicio"
      ]
    },
    {
      "cell_type": "code",
      "execution_count": null,
      "id": "b2a78edd",
      "metadata": {
        "id": "b2a78edd",
        "outputId": "43ede434-71e9-4bde-82ef-7ad7b50187d1"
      },
      "outputs": [
        {
          "data": {
            "text/plain": [
              "datetime.date(2022, 3, 11)"
            ]
          },
          "execution_count": 28,
          "metadata": {},
          "output_type": "execute_result"
        }
      ],
      "source": [
        "fim = base['As of'].dt.date.max()\n",
        "fim"
      ]
    },
    {
      "cell_type": "markdown",
      "id": "2501dc26",
      "metadata": {
        "id": "2501dc26"
      },
      "source": [
        "## Verificar valores nulos e tipos de dados"
      ]
    },
    {
      "cell_type": "code",
      "execution_count": null,
      "id": "b430cbdf",
      "metadata": {
        "id": "b430cbdf",
        "outputId": "e13903f9-07d0-4b82-bea5-932c3a0a510c"
      },
      "outputs": [
        {
          "name": "stdout",
          "output_type": "stream",
          "text": [
            "<class 'pandas.core.frame.DataFrame'>\n",
            "RangeIndex: 7100 entries, 0 to 7099\n",
            "Data columns (total 10 columns):\n",
            " #   Column                Non-Null Count  Dtype         \n",
            "---  ------                --------------  -----         \n",
            " 0   As of                 7100 non-null   datetime64[ns]\n",
            " 1   Rank                  7100 non-null   int64         \n",
            " 2   Year to Date Rank     7100 non-null   object        \n",
            " 3   Last Week Rank        7100 non-null   object        \n",
            " 4   Title                 7100 non-null   object        \n",
            " 5   Type                  7100 non-null   object        \n",
            " 6   Netflix Exclusive     4599 non-null   object        \n",
            " 7   Netflix Release Date  7100 non-null   datetime64[ns]\n",
            " 8   Days In Top 10        7100 non-null   int64         \n",
            " 9   Viewership Score      7100 non-null   int64         \n",
            "dtypes: datetime64[ns](2), int64(3), object(5)\n",
            "memory usage: 554.8+ KB\n"
          ]
        }
      ],
      "source": [
        "base.info()"
      ]
    },
    {
      "cell_type": "code",
      "execution_count": null,
      "id": "ab698d45",
      "metadata": {
        "id": "ab698d45",
        "outputId": "27e71b51-8183-486d-ea16-90ad412df457"
      },
      "outputs": [
        {
          "data": {
            "text/plain": [
              "As of                   datetime64[ns]\n",
              "Rank                             int64\n",
              "Year to Date Rank               object\n",
              "Last Week Rank                  object\n",
              "Title                           object\n",
              "Type                            object\n",
              "Netflix Exclusive               object\n",
              "Netflix Release Date    datetime64[ns]\n",
              "Days In Top 10                   int64\n",
              "Viewership Score                 int64\n",
              "dtype: object"
            ]
          },
          "execution_count": 30,
          "metadata": {},
          "output_type": "execute_result"
        }
      ],
      "source": [
        "base.dtypes"
      ]
    },
    {
      "cell_type": "code",
      "execution_count": null,
      "id": "63ae5b9f",
      "metadata": {
        "id": "63ae5b9f",
        "outputId": "ef7cd12e-b554-4b1b-eeca-779874fa278b"
      },
      "outputs": [
        {
          "data": {
            "text/plain": [
              "As of                      0\n",
              "Rank                       0\n",
              "Year to Date Rank          0\n",
              "Last Week Rank             0\n",
              "Title                      0\n",
              "Type                       0\n",
              "Netflix Exclusive       2501\n",
              "Netflix Release Date       0\n",
              "Days In Top 10             0\n",
              "Viewership Score           0\n",
              "dtype: int64"
            ]
          },
          "execution_count": 4,
          "metadata": {},
          "output_type": "execute_result"
        }
      ],
      "source": [
        "base.isna().sum()"
      ]
    },
    {
      "cell_type": "markdown",
      "id": "088392a4",
      "metadata": {
        "id": "088392a4"
      },
      "source": [
        "## Entendendo os valores nulos"
      ]
    },
    {
      "cell_type": "code",
      "execution_count": null,
      "id": "47f76ff7",
      "metadata": {
        "id": "47f76ff7",
        "outputId": "18e89576-db43-4c0c-ab50-4735ff7d4599"
      },
      "outputs": [
        {
          "data": {
            "text/plain": [
              "Yes    4599\n",
              "Name: Netflix Exclusive, dtype: int64"
            ]
          },
          "execution_count": 6,
          "metadata": {},
          "output_type": "execute_result"
        }
      ],
      "source": [
        "base['Netflix Exclusive'].value_counts()"
      ]
    },
    {
      "cell_type": "markdown",
      "id": "527e4743",
      "metadata": {
        "id": "527e4743"
      },
      "source": [
        "## Analisando informações estatisticas"
      ]
    },
    {
      "cell_type": "code",
      "execution_count": null,
      "id": "e63685b1",
      "metadata": {
        "id": "e63685b1",
        "outputId": "68e734f5-8747-488e-a968-ed221e265975"
      },
      "outputs": [
        {
          "data": {
            "text/html": [
              "<div>\n",
              "<style scoped>\n",
              "    .dataframe tbody tr th:only-of-type {\n",
              "        vertical-align: middle;\n",
              "    }\n",
              "\n",
              "    .dataframe tbody tr th {\n",
              "        vertical-align: top;\n",
              "    }\n",
              "\n",
              "    .dataframe thead th {\n",
              "        text-align: right;\n",
              "    }\n",
              "</style>\n",
              "<table border=\"1\" class=\"dataframe\">\n",
              "  <thead>\n",
              "    <tr style=\"text-align: right;\">\n",
              "      <th></th>\n",
              "      <th>Rank</th>\n",
              "      <th>Days In Top 10</th>\n",
              "      <th>Viewership Score</th>\n",
              "    </tr>\n",
              "  </thead>\n",
              "  <tbody>\n",
              "    <tr>\n",
              "      <th>count</th>\n",
              "      <td>7100.000000</td>\n",
              "      <td>7100.000000</td>\n",
              "      <td>7100.000000</td>\n",
              "    </tr>\n",
              "    <tr>\n",
              "      <th>mean</th>\n",
              "      <td>5.500000</td>\n",
              "      <td>24.123662</td>\n",
              "      <td>122.790141</td>\n",
              "    </tr>\n",
              "    <tr>\n",
              "      <th>std</th>\n",
              "      <td>2.872484</td>\n",
              "      <td>58.473789</td>\n",
              "      <td>213.861642</td>\n",
              "    </tr>\n",
              "    <tr>\n",
              "      <th>min</th>\n",
              "      <td>1.000000</td>\n",
              "      <td>1.000000</td>\n",
              "      <td>1.000000</td>\n",
              "    </tr>\n",
              "    <tr>\n",
              "      <th>25%</th>\n",
              "      <td>3.000000</td>\n",
              "      <td>3.000000</td>\n",
              "      <td>19.000000</td>\n",
              "    </tr>\n",
              "    <tr>\n",
              "      <th>50%</th>\n",
              "      <td>5.500000</td>\n",
              "      <td>7.000000</td>\n",
              "      <td>50.000000</td>\n",
              "    </tr>\n",
              "    <tr>\n",
              "      <th>75%</th>\n",
              "      <td>8.000000</td>\n",
              "      <td>18.000000</td>\n",
              "      <td>128.000000</td>\n",
              "    </tr>\n",
              "    <tr>\n",
              "      <th>max</th>\n",
              "      <td>10.000000</td>\n",
              "      <td>428.000000</td>\n",
              "      <td>1474.000000</td>\n",
              "    </tr>\n",
              "  </tbody>\n",
              "</table>\n",
              "</div>"
            ],
            "text/plain": [
              "              Rank  Days In Top 10  Viewership Score\n",
              "count  7100.000000     7100.000000       7100.000000\n",
              "mean      5.500000       24.123662        122.790141\n",
              "std       2.872484       58.473789        213.861642\n",
              "min       1.000000        1.000000          1.000000\n",
              "25%       3.000000        3.000000         19.000000\n",
              "50%       5.500000        7.000000         50.000000\n",
              "75%       8.000000       18.000000        128.000000\n",
              "max      10.000000      428.000000       1474.000000"
            ]
          },
          "execution_count": 33,
          "metadata": {},
          "output_type": "execute_result"
        }
      ],
      "source": [
        "base.describe()"
      ]
    },
    {
      "cell_type": "markdown",
      "id": "9a646c83",
      "metadata": {
        "id": "9a646c83"
      },
      "source": [
        "## Entendendo melhor as informações"
      ]
    },
    {
      "cell_type": "code",
      "execution_count": null,
      "id": "326f4237",
      "metadata": {
        "id": "326f4237",
        "outputId": "c34cb0d1-4651-46b3-9c21-4342a53f7d93",
        "scrolled": true
      },
      "outputs": [
        {
          "data": {
            "text/plain": [
              "Rank                   AxesSubplot(0.125,0.11;0.227941x0.77)\n",
              "Days In Top 10      AxesSubplot(0.398529,0.11;0.227941x0.77)\n",
              "Viewership Score    AxesSubplot(0.672059,0.11;0.227941x0.77)\n",
              "dtype: object"
            ]
          },
          "execution_count": 9,
          "metadata": {},
          "output_type": "execute_result"
        },
        {
          "data": {
            "image/png": "[encoded data removed]",
            "text/plain": [
              "<Figure size 1000x600 with 3 Axes>"
            ]
          },
          "metadata": {},
          "output_type": "display_data"
        }
      ],
      "source": [
        "base.plot(kind= 'box', figsize=(10,6), subplots=True)"
      ]
    },
    {
      "cell_type": "code",
      "execution_count": null,
      "id": "2b35527b",
      "metadata": {
        "id": "2b35527b"
      },
      "outputs": [],
      "source": [
        "import seaborn as sns\n",
        "import matplotlib.pyplot as plt"
      ]
    },
    {
      "cell_type": "code",
      "execution_count": null,
      "id": "43e838d2",
      "metadata": {
        "id": "43e838d2",
        "outputId": "78918220-5802-45a0-d1e2-ed71aaebb126",
        "scrolled": false
      },
      "outputs": [
        {
          "data": {
            "image/png": "[encoded data removed]",
            "text/plain": [
              "<Figure size 500x400 with 1 Axes>"
            ]
          },
          "metadata": {},
          "output_type": "display_data"
        }
      ],
      "source": [
        "sns.set_palette('Accent')\n",
        "sns.set_style('darkgrid')\n",
        "fig = plt.figure(figsize = (5,4))\n",
        "plt.title('Distribuição dos dias dentro do top 10', loc='left')\n",
        "sns.scatterplot(x='Rank' , y='Days In Top 10', data = base)\n",
        "fig = fig"
      ]
    },
    {
      "cell_type": "markdown",
      "id": "c99341f7",
      "metadata": {
        "id": "c99341f7"
      },
      "source": [
        "## O que seriam esses outliers"
      ]
    },
    {
      "cell_type": "code",
      "execution_count": null,
      "id": "2b73c43e",
      "metadata": {
        "id": "2b73c43e",
        "outputId": "e77ae416-ce8c-45e0-816e-cf312a79886d",
        "scrolled": true
      },
      "outputs": [
        {
          "data": {
            "text/html": [
              "<div>\n",
              "<style scoped>\n",
              "    .dataframe tbody tr th:only-of-type {\n",
              "        vertical-align: middle;\n",
              "    }\n",
              "\n",
              "    .dataframe tbody tr th {\n",
              "        vertical-align: top;\n",
              "    }\n",
              "\n",
              "    .dataframe thead th {\n",
              "        text-align: right;\n",
              "    }\n",
              "</style>\n",
              "<table border=\"1\" class=\"dataframe\">\n",
              "  <thead>\n",
              "    <tr style=\"text-align: right;\">\n",
              "      <th></th>\n",
              "      <th>As of</th>\n",
              "      <th>Rank</th>\n",
              "      <th>Year to Date Rank</th>\n",
              "      <th>Last Week Rank</th>\n",
              "      <th>Title</th>\n",
              "      <th>Type</th>\n",
              "      <th>Netflix Exclusive</th>\n",
              "      <th>Netflix Release Date</th>\n",
              "      <th>Days In Top 10</th>\n",
              "      <th>Viewership Score</th>\n",
              "    </tr>\n",
              "  </thead>\n",
              "  <tbody>\n",
              "    <tr>\n",
              "      <th>2886</th>\n",
              "      <td>2021-01-14</td>\n",
              "      <td>7</td>\n",
              "      <td>6</td>\n",
              "      <td>8</td>\n",
              "      <td>Cocomelon</td>\n",
              "      <td>TV Show</td>\n",
              "      <td>NaN</td>\n",
              "      <td>2020-06-01</td>\n",
              "      <td>100</td>\n",
              "      <td>287</td>\n",
              "    </tr>\n",
              "    <tr>\n",
              "      <th>2896</th>\n",
              "      <td>2021-01-15</td>\n",
              "      <td>7</td>\n",
              "      <td>7</td>\n",
              "      <td>10</td>\n",
              "      <td>Cocomelon</td>\n",
              "      <td>TV Show</td>\n",
              "      <td>NaN</td>\n",
              "      <td>2020-06-01</td>\n",
              "      <td>101</td>\n",
              "      <td>291</td>\n",
              "    </tr>\n",
              "    <tr>\n",
              "      <th>2909</th>\n",
              "      <td>2021-01-16</td>\n",
              "      <td>10</td>\n",
              "      <td>7</td>\n",
              "      <td>9</td>\n",
              "      <td>Cocomelon</td>\n",
              "      <td>TV Show</td>\n",
              "      <td>NaN</td>\n",
              "      <td>2020-06-01</td>\n",
              "      <td>102</td>\n",
              "      <td>292</td>\n",
              "    </tr>\n",
              "    <tr>\n",
              "      <th>2919</th>\n",
              "      <td>2021-01-17</td>\n",
              "      <td>10</td>\n",
              "      <td>10</td>\n",
              "      <td>9</td>\n",
              "      <td>Cocomelon</td>\n",
              "      <td>TV Show</td>\n",
              "      <td>NaN</td>\n",
              "      <td>2020-06-01</td>\n",
              "      <td>103</td>\n",
              "      <td>293</td>\n",
              "    </tr>\n",
              "    <tr>\n",
              "      <th>3019</th>\n",
              "      <td>2021-01-27</td>\n",
              "      <td>10</td>\n",
              "      <td>-</td>\n",
              "      <td>-</td>\n",
              "      <td>Cocomelon</td>\n",
              "      <td>TV Show</td>\n",
              "      <td>NaN</td>\n",
              "      <td>2020-06-01</td>\n",
              "      <td>104</td>\n",
              "      <td>294</td>\n",
              "    </tr>\n",
              "    <tr>\n",
              "      <th>...</th>\n",
              "      <td>...</td>\n",
              "      <td>...</td>\n",
              "      <td>...</td>\n",
              "      <td>...</td>\n",
              "      <td>...</td>\n",
              "      <td>...</td>\n",
              "      <td>...</td>\n",
              "      <td>...</td>\n",
              "      <td>...</td>\n",
              "      <td>...</td>\n",
              "    </tr>\n",
              "    <tr>\n",
              "      <th>6674</th>\n",
              "      <td>2022-01-28</td>\n",
              "      <td>5</td>\n",
              "      <td>6</td>\n",
              "      <td>-</td>\n",
              "      <td>Cocomelon</td>\n",
              "      <td>TV Show</td>\n",
              "      <td>NaN</td>\n",
              "      <td>2020-06-01</td>\n",
              "      <td>424</td>\n",
              "      <td>1466</td>\n",
              "    </tr>\n",
              "    <tr>\n",
              "      <th>6687</th>\n",
              "      <td>2022-01-29</td>\n",
              "      <td>8</td>\n",
              "      <td>5</td>\n",
              "      <td>8</td>\n",
              "      <td>Cocomelon</td>\n",
              "      <td>TV Show</td>\n",
              "      <td>NaN</td>\n",
              "      <td>2020-06-01</td>\n",
              "      <td>425</td>\n",
              "      <td>1469</td>\n",
              "    </tr>\n",
              "    <tr>\n",
              "      <th>6718</th>\n",
              "      <td>2022-02-01</td>\n",
              "      <td>9</td>\n",
              "      <td>-</td>\n",
              "      <td>7</td>\n",
              "      <td>Cocomelon</td>\n",
              "      <td>TV Show</td>\n",
              "      <td>NaN</td>\n",
              "      <td>2020-06-01</td>\n",
              "      <td>426</td>\n",
              "      <td>1471</td>\n",
              "    </tr>\n",
              "    <tr>\n",
              "      <th>6959</th>\n",
              "      <td>2022-02-25</td>\n",
              "      <td>10</td>\n",
              "      <td>-</td>\n",
              "      <td>-</td>\n",
              "      <td>Cocomelon</td>\n",
              "      <td>TV Show</td>\n",
              "      <td>NaN</td>\n",
              "      <td>2020-06-01</td>\n",
              "      <td>427</td>\n",
              "      <td>1472</td>\n",
              "    </tr>\n",
              "    <tr>\n",
              "      <th>6998</th>\n",
              "      <td>2022-03-01</td>\n",
              "      <td>9</td>\n",
              "      <td>-</td>\n",
              "      <td>-</td>\n",
              "      <td>Cocomelon</td>\n",
              "      <td>TV Show</td>\n",
              "      <td>NaN</td>\n",
              "      <td>2020-06-01</td>\n",
              "      <td>428</td>\n",
              "      <td>1474</td>\n",
              "    </tr>\n",
              "  </tbody>\n",
              "</table>\n",
              "<p>329 rows × 10 columns</p>\n",
              "</div>"
            ],
            "text/plain": [
              "          As of  Rank Year to Date Rank Last Week Rank      Title     Type  \\\n",
              "2886 2021-01-14     7                 6              8  Cocomelon  TV Show   \n",
              "2896 2021-01-15     7                 7             10  Cocomelon  TV Show   \n",
              "2909 2021-01-16    10                 7              9  Cocomelon  TV Show   \n",
              "2919 2021-01-17    10                10              9  Cocomelon  TV Show   \n",
              "3019 2021-01-27    10                 -              -  Cocomelon  TV Show   \n",
              "...         ...   ...               ...            ...        ...      ...   \n",
              "6674 2022-01-28     5                 6              -  Cocomelon  TV Show   \n",
              "6687 2022-01-29     8                 5              8  Cocomelon  TV Show   \n",
              "6718 2022-02-01     9                 -              7  Cocomelon  TV Show   \n",
              "6959 2022-02-25    10                 -              -  Cocomelon  TV Show   \n",
              "6998 2022-03-01     9                 -              -  Cocomelon  TV Show   \n",
              "\n",
              "     Netflix Exclusive Netflix Release Date  Days In Top 10  Viewership Score  \n",
              "2886               NaN           2020-06-01             100               287  \n",
              "2896               NaN           2020-06-01             101               291  \n",
              "2909               NaN           2020-06-01             102               292  \n",
              "2919               NaN           2020-06-01             103               293  \n",
              "3019               NaN           2020-06-01             104               294  \n",
              "...                ...                  ...             ...               ...  \n",
              "6674               NaN           2020-06-01             424              1466  \n",
              "6687               NaN           2020-06-01             425              1469  \n",
              "6718               NaN           2020-06-01             426              1471  \n",
              "6959               NaN           2020-06-01             427              1472  \n",
              "6998               NaN           2020-06-01             428              1474  \n",
              "\n",
              "[329 rows x 10 columns]"
            ]
          },
          "execution_count": 39,
          "metadata": {},
          "output_type": "execute_result"
        }
      ],
      "source": [
        "base[base['Days In Top 10']>= 100]"
      ]
    },
    {
      "cell_type": "markdown",
      "id": "b0d56d97",
      "metadata": {
        "id": "b0d56d97"
      },
      "source": [
        "## Entendendo melhor as informações"
      ]
    },
    {
      "cell_type": "code",
      "execution_count": null,
      "id": "5a56b74e",
      "metadata": {
        "id": "5a56b74e",
        "outputId": "529f7ffc-1f49-4d13-dc73-81bd72ada121",
        "scrolled": true
      },
      "outputs": [
        {
          "data": {
            "text/plain": [
              "Cocomelon                       428\n",
              "Ozark                            85\n",
              "Cobra Kai                        81\n",
              "Manifest                         80\n",
              "The Queenâs Gambit             73\n",
              "                               ... \n",
              "The Office                        1\n",
              "Animals on the Loose: A You…      1\n",
              "Dark                              1\n",
              "The Secret Life of Pets 2         1\n",
              "Step Up Revolution                1\n",
              "Name: Title, Length: 645, dtype: int64"
            ]
          },
          "execution_count": 40,
          "metadata": {},
          "output_type": "execute_result"
        }
      ],
      "source": [
        "base.Title.value_counts()"
      ]
    },
    {
      "cell_type": "code",
      "execution_count": null,
      "id": "3efd19c1",
      "metadata": {
        "id": "3efd19c1",
        "outputId": "ee036e4a-a274-4d5d-fccf-afb186c73e26",
        "scrolled": true
      },
      "outputs": [
        {
          "data": {
            "text/plain": [
              "<AxesSubplot:>"
            ]
          },
          "execution_count": 41,
          "metadata": {},
          "output_type": "execute_result"
        },
        {
          "data": {
            "image/png": "[encoded data removed]",
            "text/plain": [
              "<Figure size 432x288 with 1 Axes>"
            ]
          },
          "metadata": {
            "needs_background": "light"
          },
          "output_type": "display_data"
        }
      ],
      "source": [
        "base.Type.value_counts().plot(kind='bar')"
      ]
    },
    {
      "cell_type": "code",
      "execution_count": null,
      "id": "7d3eb796",
      "metadata": {
        "id": "7d3eb796",
        "outputId": "544ca2f3-fa22-4bcb-a166-c93dce10a6aa"
      },
      "outputs": [
        {
          "data": {
            "text/plain": [
              "<AxesSubplot:>"
            ]
          },
          "execution_count": 43,
          "metadata": {},
          "output_type": "execute_result"
        },
        {
          "data": {
            "image/png": "[encoded data removed]",
            "text/plain": [
              "<Figure size 432x288 with 1 Axes>"
            ]
          },
          "metadata": {
            "needs_background": "light"
          },
          "output_type": "display_data"
        }
      ],
      "source": [
        "base['Viewership Score'].hist()"
      ]
    },
    {
      "cell_type": "code",
      "execution_count": null,
      "id": "61c757b6",
      "metadata": {
        "id": "61c757b6",
        "outputId": "49cf08de-a94f-48b3-a4f3-16069392c71f"
      },
      "outputs": [
        {
          "data": {
            "text/html": [
              "<div>\n",
              "<style scoped>\n",
              "    .dataframe tbody tr th:only-of-type {\n",
              "        vertical-align: middle;\n",
              "    }\n",
              "\n",
              "    .dataframe tbody tr th {\n",
              "        vertical-align: top;\n",
              "    }\n",
              "\n",
              "    .dataframe thead th {\n",
              "        text-align: right;\n",
              "    }\n",
              "</style>\n",
              "<table border=\"1\" class=\"dataframe\">\n",
              "  <thead>\n",
              "    <tr style=\"text-align: right;\">\n",
              "      <th></th>\n",
              "      <th>As of</th>\n",
              "      <th>Rank</th>\n",
              "      <th>Year to Date Rank</th>\n",
              "      <th>Last Week Rank</th>\n",
              "      <th>Title</th>\n",
              "      <th>Type</th>\n",
              "      <th>Netflix Exclusive</th>\n",
              "      <th>Netflix Release Date</th>\n",
              "      <th>Days In Top 10</th>\n",
              "      <th>Viewership Score</th>\n",
              "    </tr>\n",
              "  </thead>\n",
              "  <tbody>\n",
              "    <tr>\n",
              "      <th>6998</th>\n",
              "      <td>2022-03-01</td>\n",
              "      <td>9</td>\n",
              "      <td>-</td>\n",
              "      <td>-</td>\n",
              "      <td>Cocomelon</td>\n",
              "      <td>TV Show</td>\n",
              "      <td>NaN</td>\n",
              "      <td>2020-06-01</td>\n",
              "      <td>428</td>\n",
              "      <td>1474</td>\n",
              "    </tr>\n",
              "  </tbody>\n",
              "</table>\n",
              "</div>"
            ],
            "text/plain": [
              "          As of  Rank Year to Date Rank Last Week Rank      Title     Type  \\\n",
              "6998 2022-03-01     9                 -              -  Cocomelon  TV Show   \n",
              "\n",
              "     Netflix Exclusive Netflix Release Date  Days In Top 10  Viewership Score  \n",
              "6998               NaN           2020-06-01             428              1474  "
            ]
          },
          "execution_count": 44,
          "metadata": {},
          "output_type": "execute_result"
        }
      ],
      "source": [
        "base[base['Viewership Score'] == base['Viewership Score'].max()]"
      ]
    }
  ],
  "metadata": {
    "colab": {
      "provenance": []
    },
    "kernelspec": {
      "display_name": "Python 3.8.10 ('diabetes': venv)",
      "language": "python",
      "name": "python3"
    },
    "language_info": {
      "codemirror_mode": {
        "name": "ipython",
        "version": 3
      },
      "file_extension": ".py",
      "mimetype": "text/x-python",
      "name": "python",
      "nbconvert_exporter": "python",
      "pygments_lexer": "ipython3",
      "version": "3.8.10"
    },
    "vscode": {
      "interpreter": {
        "hash": "052cee50a7c02b7f2b854b2761b4599c7bf0a97526967abaff95a3f262adfd59"
      }
    }
  },
  "nbformat": 4,
  "nbformat_minor": 5
}
