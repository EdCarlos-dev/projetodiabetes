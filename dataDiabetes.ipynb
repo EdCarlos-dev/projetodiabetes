{
 "cells": [
  {
   "cell_type": "code",
   "execution_count": 1,
   "metadata": {},
   "outputs": [
    {
     "data": {
      "text/plain": [
       "' \\n1 Acessar Site\\n2 Importar as Bases\\n3 Tratar os dados\\n4 Analisar os dados\\n5 Treinar os modelos\\n6 Testar os modelos\\n'"
      ]
     },
     "execution_count": 1,
     "metadata": {},
     "output_type": "execute_result"
    }
   ],
   "source": [
    "''' \n",
    "1 Acessar Site\n",
    "2 Importar as Bases\n",
    "3 Tratar os dados\n",
    "4 Analisar os dados\n",
    "5 Treinar os modelos\n",
    "6 Testar os modelos\n",
    "'''"
   ]
  },
  {
   "cell_type": "code",
   "execution_count": null,
   "metadata": {},
   "outputs": [],
   "source": []
  }
 ],
 "metadata": {
  "kernelspec": {
   "display_name": "Python 3.8.10 ('diabetes': venv)",
   "language": "python",
   "name": "python3"
  },
  "language_info": {
   "codemirror_mode": {
    "name": "ipython",
    "version": 3
   },
   "file_extension": ".py",
   "mimetype": "text/x-python",
   "name": "python",
   "nbconvert_exporter": "python",
   "pygments_lexer": "ipython3",
   "version": "3.8.10"
  },
  "orig_nbformat": 4,
  "vscode": {
   "interpreter": {
    "hash": "052cee50a7c02b7f2b854b2761b4599c7bf0a97526967abaff95a3f262adfd59"
   }
  }
 },
 "nbformat": 4,
 "nbformat_minor": 2
}
